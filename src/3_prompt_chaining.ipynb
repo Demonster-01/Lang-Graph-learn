{
 "cells": [
  {
   "cell_type": "code",
   "execution_count": 10,
   "id": "b55754a9",
   "metadata": {},
   "outputs": [],
   "source": [
    "from langgraph.graph import StateGraph,START,END\n",
    "from langchain_openai import ChatOpenAI\n",
    "from typing import TypedDict\n",
    "from dotenv import load_dotenv\n",
    "import os\n",
    "load_dotenv() \n",
    "model=ChatOpenAI()"
   ]
  },
  {
   "cell_type": "code",
   "execution_count": 11,
   "id": "1a5601d6",
   "metadata": {},
   "outputs": [],
   "source": [
    "class BlogState(TypedDict):\n",
    "    title: str\n",
    "    content: str\n",
    "    outline: str"
   ]
  },
  {
   "cell_type": "code",
   "execution_count": 12,
   "id": "02ddff9f",
   "metadata": {},
   "outputs": [],
   "source": [
    "def create_outline(state:BlogState)->BlogState:\n",
    "    title=state[\"title\"]\n",
    "    prompt=f\"geneate the outline for blog with an topic-  {title}\"\n",
    "    outline=model.invoke(prompt).content\n",
    "    state['outline']=outline\n",
    "    return state"
   ]
  },
  {
   "cell_type": "code",
   "execution_count": 13,
   "id": "f61ca667",
   "metadata": {},
   "outputs": [],
   "source": [
    "def create_blog(state:BlogState)->BlogState:\n",
    "    title = state[\"title\"]\n",
    "    outline = state[\"outline\"]\n",
    "    prompt=f\"write a detail blog  on title - {title} with following outline - {outline}\"\n",
    "    content=model.invoke(prompt).content\n",
    "    state['content']=content\n",
    "    return state"
   ]
  },
  {
   "cell_type": "code",
   "execution_count": 14,
   "id": "b112fb2d",
   "metadata": {},
   "outputs": [],
   "source": [
    "graph=StateGraph(BlogState)\n",
    "graph.add_node(\"create_outline\",create_outline)\n",
    "graph.add_node(\"create_blog\",create_blog)\n",
    "graph.add_edge(START,'create_outline')\n",
    "graph.add_edge(\"create_outline\",\"create_blog\")\n",
    "graph.add_edge('create_blog',END)\n",
    "workflow = graph.compile()"
   ]
  },
  {
   "cell_type": "code",
   "execution_count": 15,
   "id": "ef9e9590",
   "metadata": {},
   "outputs": [
    {
     "name": "stdout",
     "output_type": "stream",
     "text": [
      "I. Introduction\n",
      "    A. Explanation of langgraphs\n",
      "    B. Brief overview of the rise of langgraphs in recent years\n",
      "\n",
      "II. What are langgraphs?\n",
      "    A. Definition and explanation of langgraphs \n",
      "    B. How langgraphs are different from regular graphs\n",
      "    C. Examples of langgraphs in different industries\n",
      "\n",
      "III. The benefits of using langgraphs\n",
      "    A. Improved data representation\n",
      "    B. Increased data understanding\n",
      "    C. Enhanced data visualization\n",
      "\n",
      "IV. Applications of langgraphs\n",
      "    A. Business and marketing\n",
      "    B. Healthcare and medical research\n",
      "    C. Social media and networking\n",
      "    D. Academic research and studies\n",
      "\n",
      "V. The future of langgraphs\n",
      "    A. Predictions and trends for langgraphs\n",
      "    B. Emerging technologies and advancements in langgraph use\n",
      "    C. The potential impact of langgraphs on data analysis and visualization\n",
      "\n",
      "VI. Conclusion\n",
      "    A. Recap of the rise of langgraphs\n",
      "    B. Final thoughts on the future of langgraphs and their impact on various industries.\n"
     ]
    }
   ],
   "source": [
    "initial_state={'title':\"rise of langgraph\"}\n",
    "final_state=workflow.invoke(initial_state)\n",
    "print(final_state['outline'])"
   ]
  },
  {
   "cell_type": "code",
   "execution_count": 16,
   "id": "aca2faa2",
   "metadata": {},
   "outputs": [
    {
     "name": "stdout",
     "output_type": "stream",
     "text": [
      "In recent years, there has been a notable rise in the use of langgraphs across various industries. Langgraphs, short for language graphs, have become a popular tool for data visualization and analysis due to their unique capabilities and benefits. In this blog, we will explore the rise of langgraphs, what they are, the benefits of using them, their applications, and what the future holds for this innovative way of representing data.\n",
      "\n",
      "I. Introduction\n",
      "Langgraphs are essentially graphs that use language as a key component in representing data. They allow for a more human-friendly way of visualizing complex data, making it easier for individuals to interpret and understand. In recent years, langgraphs have gained popularity due to their effectiveness in communicating information in a clear and concise manner.\n",
      "\n",
      "II. What are langgraphs?\n",
      "Langgraphs are different from traditional graphs in that they incorporate language and natural language processing techniques to help users analyze and interpret data. They provide a more intuitive way of understanding complex data sets and can be especially useful in industries where data interpretation is crucial. Some examples of langgraphs include sentiment analysis graphs in social media, keyword visualization in marketing, and disease spread analysis in healthcare.\n",
      "\n",
      "III. The benefits of using langgraphs\n",
      "Using langgraphs can offer several benefits, including improved data representation, increased data understanding, and enhanced data visualization. By incorporating language into the graph, users can quickly grasp the main points of the data and make informed decisions based on the information presented.\n",
      "\n",
      "IV. Applications of langgraphs\n",
      "Langgraphs have a wide range of applications across various industries. In business and marketing, they can be used to analyze customer feedback and sentiment, while in healthcare, they can help researchers track disease outbreaks. Social media and networking platforms can benefit from langgraphs by visualizing user interactions and trends, and in academic research, langgraphs can aid scholars in analyzing and presenting their findings effectively.\n",
      "\n",
      "V. The future of langgraphs\n",
      "As technology continues to advance, langgraphs are expected to become even more sophisticated and integrated into various data analysis tools. Predictions suggest that langgraphs will play a significant role in shaping the future of data visualization, with emerging technologies and advancements in natural language processing enhancing their capabilities. The potential impact of langgraphs on data analysis and visualization is immense, with the potential to revolutionize the way we interpret and understand data.\n",
      "\n",
      "VI. Conclusion\n",
      "In conclusion, the rise of langgraphs in recent years has been significant, with their unique capabilities and benefits making them a valuable tool for data visualization and analysis. As we look to the future, langgraphs are likely to play a key role in shaping the way we interpret and understand complex data sets across various industries. It will be interesting to see how this innovative approach to data representation continues to evolve and impact the field of data analysis in the years to come.\n"
     ]
    }
   ],
   "source": [
    "print(final_state['content'])"
   ]
  },
  {
   "cell_type": "code",
   "execution_count": null,
   "id": "292bffe8",
   "metadata": {},
   "outputs": [],
   "source": []
  }
 ],
 "metadata": {
  "kernelspec": {
   "display_name": "lang-graph-learn",
   "language": "python",
   "name": "python3"
  },
  "language_info": {
   "codemirror_mode": {
    "name": "ipython",
    "version": 3
   },
   "file_extension": ".py",
   "mimetype": "text/x-python",
   "name": "python",
   "nbconvert_exporter": "python",
   "pygments_lexer": "ipython3",
   "version": "3.11.13"
  }
 },
 "nbformat": 4,
 "nbformat_minor": 5
}
