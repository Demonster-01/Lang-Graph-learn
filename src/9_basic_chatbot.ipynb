{
 "cells": [
  {
   "cell_type": "code",
   "execution_count": 4,
   "id": "654d417b",
   "metadata": {},
   "outputs": [],
   "source": [
    "from langgraph.graph import StateGraph,START,END\n",
    "from typing import TypedDict, Literal,Annotated\n",
    "from langchain_openai import ChatOpenAI\n",
    "from langchain_core.messages import BaseMessage,HumanMessage\n",
    "from pydantic import BaseModel,Field\n",
    "from langgraph.graph.message import  add_messages\n",
    "from langgraph.checkpoint.memory import MemorySaver\n"
   ]
  },
  {
   "cell_type": "code",
   "execution_count": 5,
   "id": "daa04cf5",
   "metadata": {},
   "outputs": [],
   "source": [
    "class ChatState(TypedDict):\n",
    "    messages:Annotated[list[BaseMessage],add_messages]"
   ]
  },
  {
   "cell_type": "code",
   "execution_count": 6,
   "id": "3f59d245",
   "metadata": {},
   "outputs": [],
   "source": [
    "llm = ChatOpenAI()\n",
    "def chat_node(state:ChatState):\n",
    "    messages=state['messages']\n",
    "    response=llm.invoke(messages)\n",
    "    return {\"messages\":[response]}"
   ]
  },
  {
   "cell_type": "code",
   "execution_count": 7,
   "id": "8ff2b379",
   "metadata": {},
   "outputs": [],
   "source": [
    "checkpointer=MemorySaver()\n",
    "\n",
    "graph=StateGraph(ChatState)\n",
    "\n",
    "graph.add_node('chat_node',chat_node)\n",
    "graph.add_edge(START,'chat_node')\n",
    "graph.add_edge('chat_node',END)\n",
    "\n",
    "chatbot=graph.compile(checkpointer=checkpointer)\n"
   ]
  },
  {
   "cell_type": "code",
   "execution_count": 8,
   "id": "8ab21da9",
   "metadata": {},
   "outputs": [],
   "source": [
    "initial_state={\n",
    "    \"messages\":[HumanMessage(content=\"Hello, how are you?\")]\n",
    "}\n",
    "result= chatbot.invoke(initial_state)"
   ]
  },
  {
   "cell_type": "code",
   "execution_count": null,
   "id": "9ac27374",
   "metadata": {},
   "outputs": [
    {
     "name": "stdout",
     "output_type": "stream",
     "text": [
      "Hello! I'm just a computer program, so I don't have feelings, but I'm here and ready to help you. How can I assist you today?\n"
     ]
    }
   ],
   "source": [
    "print(result['messages'][-1].content)"
   ]
  },
  {
   "cell_type": "code",
   "execution_count": null,
   "id": "04f359ae",
   "metadata": {},
   "outputs": [],
   "source": [
    "thread_id ='1'\n",
    "\n",
    "while True:\n",
    "    user_message= input('Type here: ')\n",
    "    if user_message.strip().lower in ['exit','bye','quit']:\n",
    "        break\n",
    "    config={\"configurable\":{'thread_id':thread_id}}\n",
    "    response =chatbot.invoke({\"messages\":[HumanMessage(content=user_message)]},config=config)\n",
    "    print(response['messages'][-1].content)\n",
    "    "
   ]
  },
  {
   "cell_type": "code",
   "execution_count": 12,
   "id": "c44760e2",
   "metadata": {},
   "outputs": [
    {
     "data": {
      "text/plain": [
       "StateSnapshot(values={'messages': [HumanMessage(content='', additional_kwargs={}, response_metadata={}, id='30e15bb6-5d9b-4f02-8b5f-520df85ee5b6'), AIMessage(content='Hello! How can I assist you today?', additional_kwargs={'refusal': None}, response_metadata={'token_usage': {'completion_tokens': 9, 'prompt_tokens': 7, 'total_tokens': 16, 'completion_tokens_details': {'accepted_prediction_tokens': 0, 'audio_tokens': 0, 'reasoning_tokens': 0, 'rejected_prediction_tokens': 0}, 'prompt_tokens_details': {'audio_tokens': 0, 'cached_tokens': 0}}, 'model_name': 'gpt-3.5-turbo-0125', 'system_fingerprint': None, 'id': 'chatcmpl-CHrKOKhKIaL3J2JqnhmT5D2wJ4NNL', 'service_tier': 'default', 'finish_reason': 'stop', 'logprobs': None}, id='run--9f96824d-af1d-4c1c-99d7-efd7cca5d256-0', usage_metadata={'input_tokens': 7, 'output_tokens': 9, 'total_tokens': 16, 'input_token_details': {'audio': 0, 'cache_read': 0}, 'output_token_details': {'audio': 0, 'reasoning': 0}}), HumanMessage(content='hi', additional_kwargs={}, response_metadata={}, id='ea8edaa1-0065-44ef-9202-d832234c13f6'), AIMessage(content='Hello! How are you doing?', additional_kwargs={'refusal': None}, response_metadata={'token_usage': {'completion_tokens': 7, 'prompt_tokens': 25, 'total_tokens': 32, 'completion_tokens_details': {'accepted_prediction_tokens': 0, 'audio_tokens': 0, 'reasoning_tokens': 0, 'rejected_prediction_tokens': 0}, 'prompt_tokens_details': {'audio_tokens': 0, 'cached_tokens': 0}}, 'model_name': 'gpt-3.5-turbo-0125', 'system_fingerprint': None, 'id': 'chatcmpl-CHrKiGbc2YXQTrj2NpqRkaW6dQz2m', 'service_tier': 'default', 'finish_reason': 'stop', 'logprobs': None}, id='run--f93e7104-d59f-4f96-9cdf-a24308295cbd-0', usage_metadata={'input_tokens': 25, 'output_tokens': 7, 'total_tokens': 32, 'input_token_details': {'audio': 0, 'cache_read': 0}, 'output_token_details': {'audio': 0, 'reasoning': 0}}), HumanMessage(content='how to convert class object into dict at python', additional_kwargs={}, response_metadata={}, id='7349040e-226b-4548-a467-53ed1021751d'), AIMessage(content='You can convert a class object into a dictionary in Python by using the `vars()` function. Here\\'s an example:\\n\\n```python\\nclass MyClass:\\n    def __init__(self, name, age):\\n        self.name = name\\n        self.age = age\\n\\nobj = MyClass(\"Alice\", 30)\\n\\n# Convert object into dictionary\\nobj_dict = vars(obj)\\nprint(obj_dict)\\n```\\n\\nThis will output:\\n\\n```\\n{\\'name\\': \\'Alice\\', \\'age\\': 30}\\n```\\n\\nThis method works by getting the `__dict__` attribute of the object, which contains all the instance variables of the object. The `vars()` function then returns this dictionary representation of the object.', additional_kwargs={'refusal': None}, response_metadata={'token_usage': {'completion_tokens': 140, 'prompt_tokens': 49, 'total_tokens': 189, 'completion_tokens_details': {'accepted_prediction_tokens': 0, 'audio_tokens': 0, 'reasoning_tokens': 0, 'rejected_prediction_tokens': 0}, 'prompt_tokens_details': {'audio_tokens': 0, 'cached_tokens': 0}}, 'model_name': 'gpt-3.5-turbo-0125', 'system_fingerprint': None, 'id': 'chatcmpl-CHrKx3Dg9tbpFGF8GVtxmw5PISQ8n', 'service_tier': 'default', 'finish_reason': 'stop', 'logprobs': None}, id='run--892ae30a-76d0-4af2-9e65-13977ff4bbf0-0', usage_metadata={'input_tokens': 49, 'output_tokens': 140, 'total_tokens': 189, 'input_token_details': {'audio': 0, 'cache_read': 0}, 'output_token_details': {'audio': 0, 'reasoning': 0}}), HumanMessage(content='how to conver class obj into dict at python', additional_kwargs={}, response_metadata={}, id='2a6ff409-dcbb-47e2-b2e9-e7dace3afcf1'), AIMessage(content='You can convert a class object into a dictionary in Python by creating a custom function in the class that returns a dictionary of its instance variables. Here\\'s an example:\\n\\n```python\\nclass MyClass:\\n    def __init__(self, name, age):\\n        self.name = name\\n        self.age = age\\n    \\n    def to_dict(self):\\n        return {\\n            \\'name\\': self.name,\\n            \\'age\\': self.age\\n        }\\n\\nobj = MyClass(\"Alice\", 30)\\n\\n# Convert object into dictionary\\nobj_dict = obj.to_dict()\\nprint(obj_dict)\\n```\\n\\nThis will output:\\n\\n```\\n{\\'name\\': \\'Alice\\', \\'age\\': 30}\\n```\\n\\nBy defining a `to_dict()` method in the class, you can easily convert an object of that class into a dictionary with the desired key-value pairs.', additional_kwargs={'refusal': None}, response_metadata={'token_usage': {'completion_tokens': 166, 'prompt_tokens': 206, 'total_tokens': 372, 'completion_tokens_details': {'accepted_prediction_tokens': 0, 'audio_tokens': 0, 'reasoning_tokens': 0, 'rejected_prediction_tokens': 0}, 'prompt_tokens_details': {'audio_tokens': 0, 'cached_tokens': 0}}, 'model_name': 'gpt-3.5-turbo-0125', 'system_fingerprint': None, 'id': 'chatcmpl-CHrLIq5b2CkXyMVu62z5ffXsQsxKN', 'service_tier': 'default', 'finish_reason': 'stop', 'logprobs': None}, id='run--fb52bbb9-9bc3-40a0-a4df-a2266620afc4-0', usage_metadata={'input_tokens': 206, 'output_tokens': 166, 'total_tokens': 372, 'input_token_details': {'audio': 0, 'cache_read': 0}, 'output_token_details': {'audio': 0, 'reasoning': 0}}), HumanMessage(content='bye', additional_kwargs={}, response_metadata={}, id='16863973-e5e7-402f-a961-535abc83adf9'), AIMessage(content=\"Goodbye! Don't hesitate to return if you have more questions in the future. Have a great day!\", additional_kwargs={'refusal': None}, response_metadata={'token_usage': {'completion_tokens': 22, 'prompt_tokens': 381, 'total_tokens': 403, 'completion_tokens_details': {'accepted_prediction_tokens': 0, 'audio_tokens': 0, 'reasoning_tokens': 0, 'rejected_prediction_tokens': 0}, 'prompt_tokens_details': {'audio_tokens': 0, 'cached_tokens': 0}}, 'model_name': 'gpt-3.5-turbo-0125', 'system_fingerprint': None, 'id': 'chatcmpl-CHrLW3yETUaRHkB3we2Zbqwk75Dq4', 'service_tier': 'default', 'finish_reason': 'stop', 'logprobs': None}, id='run--92915e56-9930-411c-80e5-cc85c7f4225b-0', usage_metadata={'input_tokens': 381, 'output_tokens': 22, 'total_tokens': 403, 'input_token_details': {'audio': 0, 'cache_read': 0}, 'output_token_details': {'audio': 0, 'reasoning': 0}})]}, next=(), config={'configurable': {'thread_id': '1', 'checkpoint_ns': '', 'checkpoint_id': '1f096207-e426-62ef-800d-5a83b50e26c7'}}, metadata={'source': 'loop', 'step': 13, 'parents': {}}, created_at='2025-09-20T12:51:14.988487+00:00', parent_config={'configurable': {'thread_id': '1', 'checkpoint_ns': '', 'checkpoint_id': '1f096207-dbe9-6ee4-800c-7a21a95fe883'}}, tasks=(), interrupts=())"
      ]
     },
     "execution_count": 12,
     "metadata": {},
     "output_type": "execute_result"
    }
   ],
   "source": [
    "(chatbot.get_state(config=config))"
   ]
  },
  {
   "cell_type": "code",
   "execution_count": null,
   "id": "a6de5760",
   "metadata": {},
   "outputs": [],
   "source": []
  }
 ],
 "metadata": {
  "kernelspec": {
   "display_name": "lang-graph-learn",
   "language": "python",
   "name": "python3"
  },
  "language_info": {
   "codemirror_mode": {
    "name": "ipython",
    "version": 3
   },
   "file_extension": ".py",
   "mimetype": "text/x-python",
   "name": "python",
   "nbconvert_exporter": "python",
   "pygments_lexer": "ipython3",
   "version": "3.11.13"
  }
 },
 "nbformat": 4,
 "nbformat_minor": 5
}
