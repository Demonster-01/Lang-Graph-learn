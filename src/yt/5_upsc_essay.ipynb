{
 "cells": [
  {
   "cell_type": "code",
   "execution_count": 25,
   "id": "76e782a0",
   "metadata": {},
   "outputs": [
    {
     "data": {
      "text/plain": [
       "True"
      ]
     },
     "execution_count": 25,
     "metadata": {},
     "output_type": "execute_result"
    }
   ],
   "source": [
    "from langgraph.graph import StateGraph,START,END\n",
    "from langchain_openai import ChatOpenAI\n",
    "from typing import TypedDict,Annotated\n",
    "from dotenv import load_dotenv\n",
    "import os\n",
    "from pydantic import BaseModel,Field \n",
    "import operator\n",
    "load_dotenv() "
   ]
  },
  {
   "cell_type": "code",
   "execution_count": 18,
   "id": "7f3b5bbf",
   "metadata": {},
   "outputs": [],
   "source": [
    "model=ChatOpenAI(model='gpt-4o-mini')\n",
    "\n"
   ]
  },
  {
   "cell_type": "code",
   "execution_count": 19,
   "id": "ca687010",
   "metadata": {},
   "outputs": [],
   "source": [
    "class EvaluationSchema(BaseModel):\n",
    "    feedback:str=Field(description=\"detail feednack for the essay\")\n",
    "    score:int=Field(description='Score out of 10',ge=0,le=10)\n"
   ]
  },
  {
   "cell_type": "code",
   "execution_count": 20,
   "id": "f88a101a",
   "metadata": {},
   "outputs": [],
   "source": [
    "structured_model=model.with_structured_output(EvaluationSchema)"
   ]
  },
  {
   "cell_type": "code",
   "execution_count": 21,
   "id": "9192978c",
   "metadata": {},
   "outputs": [],
   "source": [
    "essay= \"\"\" Curiosity is the spark that drives learning, creativity, and progress. From childhood, it inspires us to ask questions, explore the unknown, and challenge established ideas. Great discoveries in science, art, and technology often began with a simple “why” or “what if.” Curiosity also enriches daily life by helping us notice small details, appreciate diverse perspectives, and connect more deeply with others. In a rapidly changing world, it is curiosity that encourages adaptability and resilience. Unlike fleeting motivation, curiosity sustains lifelong growth, making it one of the most powerful traits a person can nurture.\"\"\""
   ]
  },
  {
   "cell_type": "code",
   "execution_count": 22,
   "id": "049e16b7",
   "metadata": {},
   "outputs": [],
   "source": [
    "prompt = f\"evaluate the language quality of following essay and provided a feedback and assign a score out of 10 \\n  {essay}\""
   ]
  },
  {
   "cell_type": "code",
   "execution_count": null,
   "id": "2b45f8b4",
   "metadata": {},
   "outputs": [
    {
     "data": {
      "text/plain": [
       "EvaluationSchema(feedback='The essay presents a strong argument for the importance of curiosity in various aspects of life. It is well-structured with clear reasoning and insightful examples. The language used is articulate, making good use of vocabulary that enhances the message. However, the essay could benefit from a few more specific examples or anecdotes to further illustrate the points made and engage the reader more deeply. Additionally, some phrases could be varied to avoid repetition, making it more dynamic.', score=8)"
      ]
     },
     "execution_count": 23,
     "metadata": {},
     "output_type": "execute_result"
    }
   ],
   "source": [
    "structured_model.invoke(prompt)\n",
    "# structured_model.invoke(prompt).feedback"
   ]
  },
  {
   "cell_type": "code",
   "execution_count": 28,
   "id": "ee63c96e",
   "metadata": {},
   "outputs": [],
   "source": [
    "class UPSCState(TypedDict):\n",
    "    essay:str\n",
    "    language_feedback:str\n",
    "    analysis_feedback:str\n",
    "    clarity_feedback:str\n",
    "    overall_feedback:str\n",
    "    individual_scores:Annotated[list[int],operator.add]\n",
    "    avg_score:float"
   ]
  },
  {
   "cell_type": "code",
   "execution_count": 44,
   "id": "835cb181",
   "metadata": {},
   "outputs": [],
   "source": [
    "def evaluate_language(State:UPSCState)->UPSCState:\n",
    "    prompt = f\"evaluate the language quality of following essay and provided a feedback and assign a score out of 10 \\n  {State['essay']}\"\n",
    "    output= structured_model.invoke(prompt)\n",
    "    return {\"language_feedback\":output.feedback,\"individual_scores\":[output.score]}\n",
    "\n"
   ]
  },
  {
   "cell_type": "code",
   "execution_count": 48,
   "id": "5bcb6246",
   "metadata": {},
   "outputs": [],
   "source": [
    "def evaluate_analysis(State:UPSCState)->UPSCState:\n",
    "    prompt = f\"evaluate the depth of analysis from the following essay and provided a feedback and assign a score out of 10 \\n  {State['essay']}\"\n",
    "    output= structured_model.invoke(prompt)\n",
    "    return {\"analysis_feedback\":output.feedback,\"individual_scores\":[output.score]}\n",
    "\n",
    "def evaluate_thought(State:UPSCState)->UPSCState:\n",
    "    prompt = f\"evaluate the clarity of thought from the following essay and provided a feedback and assign a score out of 10 \\n  {State['essay']}\"\n",
    "    output= structured_model.invoke(prompt)\n",
    "    return {\"clarity_feedback\":output.feedback,\"individual_scores\":[output.score]}\n",
    "\n",
    "def final_evaluation(State:UPSCState)->UPSCState:\n",
    "    prompt = f\"\"\" Based on the following feedback create a summarized feedback. \n",
    "    \\n language feedback={State['language_feedback']} \n",
    "    \\n analysis feedback= {State[\"analysis_feedback\"]} \n",
    "    \\n clarity feedback = {State[\"clarity_feedback\"]}\n",
    "    \"\"\"\n",
    "    overall_feedback= model.invoke(prompt).content\n",
    "\n",
    "    avg_score=sum(State[\"individual_scores\"] )/len(State[\"individual_scores\"])\n",
    "    return {\"overall_feedback\":overall_feedback,\"avg_score\":[avg_score]}\n",
    "\n",
    "\n"
   ]
  },
  {
   "cell_type": "code",
   "execution_count": 49,
   "id": "c61b4d68",
   "metadata": {},
   "outputs": [],
   "source": [
    "graph=StateGraph(UPSCState)\n",
    "graph.add_node('evaluate_language',evaluate_language)\n",
    "graph.add_node('evaluate_analysis',evaluate_analysis)\n",
    "graph.add_node('evaluate_thought',evaluate_thought)\n",
    "graph.add_node('final_evaluation',final_evaluation)\n",
    "\n",
    "graph.add_edge(START,\"evaluate_language\")\n",
    "graph.add_edge(START,\"evaluate_analysis\")\n",
    "graph.add_edge(START,\"evaluate_thought\")\n",
    "\n",
    "\n",
    "graph.add_edge(\"evaluate_thought\",\"final_evaluation\")\n",
    "graph.add_edge(\"evaluate_analysis\",\"final_evaluation\")\n",
    "graph.add_edge(\"evaluate_thought\",\"final_evaluation\")\n",
    "\n",
    "\n",
    "graph.add_edge(\"final_evaluation\",END)\n",
    "\n",
    "\n",
    "workflow=graph.compile()"
   ]
  },
  {
   "cell_type": "code",
   "execution_count": 50,
   "id": "d7e33403",
   "metadata": {},
   "outputs": [],
   "source": [
    "initial_state={\"essay\":essay}\n",
    "result=workflow.invoke(initial_state)"
   ]
  },
  {
   "cell_type": "code",
   "execution_count": 51,
   "id": "d3bdf9af",
   "metadata": {},
   "outputs": [
    {
     "name": "stdout",
     "output_type": "stream",
     "text": [
      "{'essay': ' Curiosity is the spark that drives learning, creativity, and progress. From childhood, it inspires us to ask questions, explore the unknown, and challenge established ideas. Great discoveries in science, art, and technology often began with a simple “why” or “what if.” Curiosity also enriches daily life by helping us notice small details, appreciate diverse perspectives, and connect more deeply with others. In a rapidly changing world, it is curiosity that encourages adaptability and resilience. Unlike fleeting motivation, curiosity sustains lifelong growth, making it one of the most powerful traits a person can nurture.', 'language_feedback': \"The essay is well-structured and presents a clear argument regarding the importance of curiosity. The language used is descriptive and engaging, effectively conveying the idea that curiosity is fundamental to personal growth and societal advancement. However, the essay could benefit from more varied sentence structures to enhance its rhythm and flow. Additionally, incorporating specific examples or anecdotes could strengthen the argument and make it more relatable. Overall, it's a strong piece with a thoughtful perspective.\", 'analysis_feedback': 'The essay presents a well-articulated perspective on the importance of curiosity, highlighting its role in learning, creativity, and progress. However, the analysis could benefit from deeper exploration, such as specific examples of discoveries fueled by curiosity or a more nuanced discussion of how curiosity can be cultivated in different contexts. Additionally, while the prose is engaging, the ideas could be further developed to provide more substance and complexity. Overall, the essay touches on key points but lacks depth in exploration and evidence to support the claims made.', 'clarity_feedback': 'The essay presents a clear and coherent argument about the importance of curiosity in various aspects of life. The ideas are logically sequenced, beginning with a definition of curiosity and moving through its effects on learning, creativity, and social connections. The use of examples is limited but sufficient to convey the significance of curiosity. However, the essay could benefit from more specific examples and a deeper exploration of how curiosity can be instilled or cultivated. Overall, it effectively communicates the central idea but could enhance depth for a more comprehensive understanding.', 'overall_feedback': \"**Summarized Feedback:**\\n\\nThe essay effectively argues the significance of curiosity in personal growth and societal advancement, showcasing a well-structured and coherent progression of ideas. The language is descriptive and engaging, though varied sentence structures could improve its rhythm and flow. While the essay presents a clear overview of curiosity's impact on learning, creativity, and social connections, it lacks depth in analysis. Incorporating specific examples and anecdotes would strengthen the argument and make it more relatable. To enhance the overall substance, a more nuanced discussion on cultivating curiosity in different contexts is recommended. Overall, the piece has a thoughtful perspective but would benefit from deeper exploration and evidence to support its claims.\", 'individual_scores': [6, 8, 8], 'avg_score': [7.333333333333333]}\n"
     ]
    }
   ],
   "source": [
    "print(result)"
   ]
  },
  {
   "cell_type": "code",
   "execution_count": null,
   "id": "b909ce85",
   "metadata": {},
   "outputs": [],
   "source": []
  }
 ],
 "metadata": {
  "kernelspec": {
   "display_name": "lang-graph-learn",
   "language": "python",
   "name": "python3"
  },
  "language_info": {
   "codemirror_mode": {
    "name": "ipython",
    "version": 3
   },
   "file_extension": ".py",
   "mimetype": "text/x-python",
   "name": "python",
   "nbconvert_exporter": "python",
   "pygments_lexer": "ipython3",
   "version": "3.11.13"
  }
 },
 "nbformat": 4,
 "nbformat_minor": 5
}
