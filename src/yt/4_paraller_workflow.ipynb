{
 "cells": [
  {
   "cell_type": "code",
   "execution_count": 1,
   "id": "37d65368",
   "metadata": {},
   "outputs": [],
   "source": [
    "from langgraph.graph import StateGraph,START,END\n",
    "from langchain_openai import ChatOpenAI\n",
    "from typing import TypedDict\n",
    "from dotenv import load_dotenv\n",
    "import os\n",
    "load_dotenv() \n",
    "model=ChatOpenAI()"
   ]
  },
  {
   "cell_type": "code",
   "execution_count": 2,
   "id": "7bd1c124",
   "metadata": {},
   "outputs": [],
   "source": [
    "class BatsManState(TypedDict):\n",
    "    runs:int\n",
    "    balls:int\n",
    "    four:int\n",
    "    six:int\n",
    "    sr:float\n",
    "    bpb=float\n",
    "    boundary_percentage:float"
   ]
  },
  {
   "cell_type": "code",
   "execution_count": 17,
   "id": "2f2211ba",
   "metadata": {},
   "outputs": [],
   "source": [
    "def calculate_SR(state:BatsManState)->BatsManState:\n",
    "    runs=state[\"runs\"]\n",
    "    balls=state[\"balls\"]\n",
    "    sr=runs/balls*100\n",
    "    # state[\"sr\"]=sr\n",
    "\n",
    "    return {'sr':sr}\n",
    "\n",
    "def calculate_bpb(state:BatsManState)->BatsManState:\n",
    "    runs=state[\"runs\"]\n",
    "    balls=state[\"balls\"]\n",
    "    fours=state[\"four\"]\n",
    "    six=state[\"six\"]\n",
    "    bpb=balls/(fours+six)\n",
    "    # state[\"bpb\"]=bpb\n",
    "    return {\"bpb\":bpb}\n",
    "\n",
    "def calculate_boundary_percent(state:BatsManState)->BatsManState:\n",
    "    boundary_percentage=(((state[\"four\"]*4)+(state[\"six\"]*6))/state[\"runs\"])*100\n",
    "    # state[\"boundary_percentage\"]=boundary_percentage\n",
    "    return {\"boundary_percentage\":boundary_percentage}\n",
    "\n",
    "def summary(state:BatsManState)->BatsManState:\n",
    "    summary_info=f\"\"\"\n",
    "    Strike Rate - {state['sr']} \\n\n",
    "    balls Per boundaet - {state[\"bpb\"]} \\n\n",
    "    Boundary Percentage - {state[\"boundary_percentage\"]}\n",
    "    \"\"\"\n",
    "    # state[\"summary\"]=summary_info\n",
    "    return {\"summary\":summary_info}\n",
    "    "
   ]
  },
  {
   "cell_type": "code",
   "execution_count": 18,
   "id": "e9c2e1b3",
   "metadata": {},
   "outputs": [],
   "source": [
    "graph=StateGraph(BatsManState)\n",
    "graph.add_node(\"calculate_SR\",calculate_SR)\n",
    "graph.add_node(\"calculate_bpb\",calculate_bpb)\n",
    "graph.add_node(\"calculate_boundary_percent\",calculate_boundary_percent)\n",
    "graph.add_node(\"summary\",summary)\n",
    "\n",
    "graph.add_edge(START,'calculate_SR')\n",
    "graph.add_edge(START,'calculate_bpb')\n",
    "graph.add_edge(START,'calculate_boundary_percent')\n",
    "\n",
    "graph.add_edge('calculate_SR','summary')\n",
    "graph.add_edge('calculate_boundary_percent','summary')\n",
    "graph.add_edge('calculate_bpb','summary')\n",
    "\n",
    "graph.add_edge('summary',END)\n",
    "\n",
    "workflow=graph.compile()\n"
   ]
  },
  {
   "cell_type": "code",
   "execution_count": 19,
   "id": "7b5db22a",
   "metadata": {},
   "outputs": [
    {
     "data": {
      "text/plain": [
       "{'runs': 100,\n",
       " 'balls': 40,\n",
       " 'four': 10,\n",
       " 'six': 3,\n",
       " 'sr': 250.0,\n",
       " 'bpb': 3.076923076923077,\n",
       " 'boundary_percentage': 57.99999999999999,\n",
       " 'summary': '\\n    Strike Rate - 250.0 \\n\\n    balls Per boundaet - 3.076923076923077 \\n\\n    Boundary Percentage - 57.99999999999999\\n    '}"
      ]
     },
     "execution_count": 19,
     "metadata": {},
     "output_type": "execute_result"
    }
   ],
   "source": [
    "initial_state = {\n",
    "    'runs': 100,\n",
    "    'balls': 40,\n",
    "    'four': 10,\n",
    "    'six': 3\n",
    "}\n",
    "\n",
    "\n",
    "workflow.invoke(initial_state)"
   ]
  },
  {
   "cell_type": "code",
   "execution_count": null,
   "id": "d2a08b88",
   "metadata": {},
   "outputs": [],
   "source": []
  },
  {
   "cell_type": "markdown",
   "id": "dc03adba",
   "metadata": {},
   "source": [
    "## not parallel"
   ]
  },
  {
   "cell_type": "code",
   "execution_count": 13,
   "id": "137d1a50",
   "metadata": {},
   "outputs": [
    {
     "name": "stdout",
     "output_type": "stream",
     "text": [
      "Final Result:\n",
      "\n",
      "    Strike Rate = 250.0\n",
      "    Balls Per Boundary = 3.08\n",
      "    Boundary Percentage = 58.0%\n",
      "    \n",
      "\n",
      "All calculated values:\n",
      "Strike Rate: 250.0\n",
      "Balls Per Boundary: 3.08\n",
      "Boundary Percentage: 58.0%\n"
     ]
    }
   ],
   "source": [
    "from langgraph.graph import StateGraph, START, END\n",
    "from typing_extensions import TypedDict\n",
    "\n",
    "class BatsManState(TypedDict):\n",
    "    runs: int\n",
    "    balls: int\n",
    "    four: int\n",
    "    six: int\n",
    "    sr: float\n",
    "    bpb: float\n",
    "    boundary_percentage: float\n",
    "    summary: str\n",
    "\n",
    "def calculate_SR(state: BatsManState) -> BatsManState:\n",
    "    runs = state[\"runs\"]\n",
    "    balls = state[\"balls\"]\n",
    "    sr = runs / balls * 100\n",
    "    state[\"sr\"] = round(sr, 2)\n",
    "    return state\n",
    "\n",
    "def calculate_bpb(state: BatsManState) -> BatsManState:\n",
    "    runs = state[\"runs\"]\n",
    "    balls = state[\"balls\"]\n",
    "    fours = state[\"four\"]\n",
    "    six = state[\"six\"]\n",
    "    if (fours + six) > 0:\n",
    "        bpb = balls / (fours + six)\n",
    "    else:\n",
    "        bpb = 0  # Handle division by zero\n",
    "    state[\"bpb\"] = round(bpb, 2)\n",
    "    return state\n",
    "\n",
    "def calculate_boundary_percent(state: BatsManState) -> BatsManState:\n",
    "    runs = state[\"runs\"]\n",
    "    fours = state[\"four\"]\n",
    "    sixes = state[\"six\"]\n",
    "    if runs > 0:\n",
    "        boundary_percentage = (((fours * 4) + (sixes * 6)) / runs) * 100\n",
    "    else:\n",
    "        boundary_percentage = 0  # Handle division by zero\n",
    "    state[\"boundary_percentage\"] = round(boundary_percentage, 2)\n",
    "    return state\n",
    "\n",
    "def summary(state: BatsManState) -> BatsManState:\n",
    "    summary_info = f\"\"\"\n",
    "    Strike Rate = {state['sr']}\n",
    "    Balls Per Boundary = {state[\"bpb\"]}\n",
    "    Boundary Percentage = {state[\"boundary_percentage\"]}%\n",
    "    \"\"\"\n",
    "    state[\"summary\"] = summary_info\n",
    "    return state\n",
    "\n",
    "# Build the graph with PROPER sequential execution\n",
    "graph = StateGraph(BatsManState)\n",
    "graph.add_node(\"calculate_SR\", calculate_SR)\n",
    "graph.add_node(\"calculate_bpb\", calculate_bpb)\n",
    "graph.add_node(\"calculate_boundary_percent\", calculate_boundary_percent)\n",
    "graph.add_node(\"summary\", summary)\n",
    "\n",
    "# Correct sequential execution\n",
    "graph.add_edge(START, 'calculate_SR')\n",
    "graph.add_edge('calculate_SR', 'calculate_bpb')\n",
    "graph.add_edge('calculate_bpb', 'calculate_boundary_percent')\n",
    "graph.add_edge('calculate_boundary_percent', 'summary')\n",
    "graph.add_edge('summary', END)\n",
    "\n",
    "workflow = graph.compile()\n",
    "\n",
    "# Initial state - only provide the raw data\n",
    "initial_state = {\n",
    "    'runs': 100,\n",
    "    'balls': 40,\n",
    "    'four': 10,\n",
    "    'six': 3,\n",
    "    # Don't initialize calculated fields - let the nodes populate them\n",
    "}\n",
    "\n",
    "result = workflow.invoke(initial_state)\n",
    "print(\"Final Result:\")\n",
    "print(result[\"summary\"])\n",
    "print(\"\\nAll calculated values:\")\n",
    "print(f\"Strike Rate: {result['sr']}\")\n",
    "print(f\"Balls Per Boundary: {result['bpb']}\")\n",
    "print(f\"Boundary Percentage: {result['boundary_percentage']}%\")"
   ]
  },
  {
   "cell_type": "code",
   "execution_count": null,
   "id": "9e4215bc",
   "metadata": {},
   "outputs": [],
   "source": []
  }
 ],
 "metadata": {
  "kernelspec": {
   "display_name": "lang-graph-learn",
   "language": "python",
   "name": "python3"
  },
  "language_info": {
   "codemirror_mode": {
    "name": "ipython",
    "version": 3
   },
   "file_extension": ".py",
   "mimetype": "text/x-python",
   "name": "python",
   "nbconvert_exporter": "python",
   "pygments_lexer": "ipython3",
   "version": "3.11.13"
  }
 },
 "nbformat": 4,
 "nbformat_minor": 5
}
