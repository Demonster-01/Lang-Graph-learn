{
 "cells": [
  {
   "cell_type": "code",
   "execution_count": null,
   "id": "8500d8b9",
   "metadata": {},
   "outputs": [],
   "source": [
    "from langgraph.graph import StateGraph,START,END\n",
    "from typing import TypedDict, Literal,Annotated\n",
    "from langchagentn_openagent import ChatOpenagent\n",
    "from langchagentn_core.messages import BaseMessage,HumanMessage\n",
    "from pydantic import BaseModel,Field\n",
    "from langgraph.graph.message import  add_messages\n"
   ]
  },
  {
   "cell_type": "code",
   "execution_count": 7,
   "id": "83f2f32f",
   "metadata": {},
   "outputs": [],
   "source": [
    "class ChatGraphState(TypedDict):\n",
    "    old_conversation:dict\n",
    "    latest_chat:str\n",
    "\n"
   ]
  },
  {
   "cell_type": "code",
   "execution_count": 9,
   "id": "0926bf0e",
   "metadata": {},
   "outputs": [],
   "source": [
    "\n",
    "  messages= [\n",
    "    {\n",
    "      \"role\": \"user\",\n",
    "      \"content\": \"Hi, my order hasn’t arrived yet. Can you help?\"\n",
    "    },\n",
    "    {\n",
    "      \"role\": \"agent\",\n",
    "      \"content\": \"Of course! Could you please provide your order number so I can check the status?\"\n",
    "    },\n",
    "    {\n",
    "      \"role\": \"user\",\n",
    "      \"content\": \"Yes, it’s #ORD7821.\"\n",
    "    },\n",
    "    {\n",
    "      \"role\": \"agent\",\n",
    "      \"content\": \"Thanks! I’ve checked the system and your order is on the way. It should arrive tomorrow by 8 PM.\"\n",
    "    },\n",
    "    {\n",
    "      \"role\": \"user\",\n",
    "      \"content\": \"Great, thanks for the update!\"\n",
    "    },\n",
    "    {\n",
    "      \"role\": \"agent\",\n",
    "      \"content\": \"You’re welcome! Is there anything else I can help you with today?\"\n",
    "    },\n",
    "    {\n",
    "      \"role\": \"user\",\n",
    "      \"content\": \"No, that’s all. Have a nice day!\"\n",
    "    },\n",
    "    {\n",
    "      \"role\": \"agent\",\n",
    "      \"content\": \"You too! 😊\"\n",
    "    }\n",
    "  ]\n"
   ]
  },
  {
   "cell_type": "code",
   "execution_count": null,
   "id": "cb75ad1c",
   "metadata": {},
   "outputs": [],
   "source": [
    "tool=[\n",
    "    {\n",
    "        \"type\": \"function\",\n",
    "        \"function\": {\n",
    "            \"name\": \"search_database\",\n",
    "            \"description\": \"generate reply based on the latest chat\",\n",
    "            \"parameters\": {\n",
    "                \"type\": \"object\",\n",
    "                \"properties\": {\n",
    "                    \"old_conversation\": {\n",
    "                        \"type\": \"dict\",\n",
    "                        \"description\": \"the old conversation\"\n",
    "                    },\n",
    "                    \"latest_chat\": {\n",
    "                        \"type\": \"string\",\n",
    "                        \"description\": \"the latest chat\"\n",
    "                    }\n",
    "                },\n",
    "                \"required\": [\n",
    "                    \"latest_chat\"\n",
    "                ]\n",
    "            }\n",
    "        }\n",
    "    }\n",
    "]"
   ]
  },
  {
   "cell_type": "code",
   "execution_count": null,
   "id": "f67132d8",
   "metadata": {},
   "outputs": [],
   "source": [
    "def search_database(query:str):\n",
    "    return {\"results\": f\"Results for '{query}'\"}"
   ]
  },
  {
   "cell_type": "code",
   "execution_count": null,
   "id": "e9067094",
   "metadata": {},
   "outputs": [
    {
     "ename": "SyntaxError",
     "evalue": "unmatched ')' (2704427689.py, line 5)",
     "output_type": "error",
     "traceback": [
      "  \u001b[36mCell\u001b[39m\u001b[36m \u001b[39m\u001b[32mIn[10]\u001b[39m\u001b[32m, line 5\u001b[39m\n\u001b[31m    \u001b[39m\u001b[31mreturn {'old_conversation':add_messages(state['old_conversation'],response),'latest_chat':response.content})\u001b[39m\n                                                                                                               ^\n\u001b[31mSyntaxError\u001b[39m\u001b[31m:\u001b[39m unmatched ')'\n"
     ]
    }
   ],
   "source": [
    "def gen_reply(state:ChatGraphState):\n",
    "    print(state)\n",
    "    prompt=f\"\"\" \n",
    "    you are the customer support Agent who gracefully repond the user query from the provied search tool only. \n",
    "    \"\"\"\n",
    "    llm=ChatOpenagent(model=\"gpt-3.5-turbo-1106\")\n",
    "    response=llm.invoke([HumanMessage(content=state['latest_chat'])])\n",
    "    return \n",
    "    # return {'old_conversation':add_messages(state['old_conversation'],response),'latest_chat':response.content})"
   ]
  },
  {
   "cell_type": "code",
   "execution_count": 8,
   "id": "ae17add5",
   "metadata": {},
   "outputs": [
    {
     "ename": "NameError",
     "evalue": "name 'gen_reply' is not defined",
     "output_type": "error",
     "traceback": [
      "\u001b[31m---------------------------------------------------------------------------\u001b[39m",
      "\u001b[31mNameError\u001b[39m                                 Traceback (most recent call last)",
      "\u001b[36mCell\u001b[39m\u001b[36m \u001b[39m\u001b[32mIn[8]\u001b[39m\u001b[32m, line 2\u001b[39m\n\u001b[32m      1\u001b[39m graph= StateGraph(ChatGraphState)\n\u001b[32m----> \u001b[39m\u001b[32m2\u001b[39m graph.add_node(\u001b[33m'\u001b[39m\u001b[33mgen_reply\u001b[39m\u001b[33m'\u001b[39m,\u001b[43mgen_reply\u001b[49m)\n\u001b[32m      3\u001b[39m graph.add_edge(START,\u001b[33m'\u001b[39m\u001b[33mgen_reply\u001b[39m\u001b[33m'\u001b[39m)\n\u001b[32m      4\u001b[39m graph.add_edge(\u001b[33m'\u001b[39m\u001b[33mgen_reply\u001b[39m\u001b[33m'\u001b[39m,END)\n",
      "\u001b[31mNameError\u001b[39m: name 'gen_reply' is not defined"
     ]
    }
   ],
   "source": [
    "graph= StateGraph(ChatGraphState)\n",
    "graph.add_node('gen_reply',gen_reply)\n",
    "graph.add_edge(START,'gen_reply')\n",
    "graph.add_edge('gen_reply',END)"
   ]
  },
  {
   "cell_type": "code",
   "execution_count": null,
   "id": "23ab3bae",
   "metadata": {},
   "outputs": [],
   "source": []
  },
  {
   "cell_type": "code",
   "execution_count": null,
   "id": "f5fde5bc",
   "metadata": {},
   "outputs": [],
   "source": []
  },
  {
   "cell_type": "code",
   "execution_count": null,
   "id": "e310fcba",
   "metadata": {},
   "outputs": [],
   "source": []
  },
  {
   "cell_type": "code",
   "execution_count": null,
   "id": "de54d55c",
   "metadata": {},
   "outputs": [],
   "source": []
  },
  {
   "cell_type": "code",
   "execution_count": null,
   "id": "b7117d4f",
   "metadata": {},
   "outputs": [
    {
     "name": "stdout",
     "output_type": "stream",
     "text": [
      "STATE: {'old_conversation': [HumanMessage(content='Hi, my order hasn’t arrived yet. Can you help?', additional_kwargs={}, response_metadata={}), AIMessage(content='Of course! Could you please provide your order number so I can check the status?', additional_kwargs={}, response_metadata={}), HumanMessage(content='Yes, it’s #ORD7821.', additional_kwargs={}, response_metadata={}), AIMessage(content='Thanks! I’ve checked the system and your order is on the way. It should arrive tomorrow by 8 PM.', additional_kwargs={}, response_metadata={}), HumanMessage(content='Great, thanks for the update!', additional_kwargs={}, response_metadata={}), AIMessage(content='You’re welcome! Is there anything else I can help you with today?', additional_kwargs={}, response_metadata={}), HumanMessage(content='No, that’s all. Have a nice day!', additional_kwargs={}, response_metadata={}), AIMessage(content='You too! 😊', additional_kwargs={}, response_metadata={})], 'latest_chat': 'Hello, I forgot my password?'}\n",
      "FINAL RESULT: {'old_conversation': [HumanMessage(content='Hi, my order hasn’t arrived yet. Can you help?', additional_kwargs={}, response_metadata={}, id='d325ff5e-c3b8-4123-9912-074b10ed9975'), AIMessage(content='Of course! Could you please provide your order number so I can check the status?', additional_kwargs={}, response_metadata={}, id='8e2848c7-3757-4359-8bf8-c8a9a80ff762'), HumanMessage(content='Yes, it’s #ORD7821.', additional_kwargs={}, response_metadata={}, id='3d65b6e5-25a9-44d1-893a-f07c4f8eef01'), AIMessage(content='Thanks! I’ve checked the system and your order is on the way. It should arrive tomorrow by 8 PM.', additional_kwargs={}, response_metadata={}, id='11b0985b-7d8f-44c0-8902-54b40951a898'), HumanMessage(content='Great, thanks for the update!', additional_kwargs={}, response_metadata={}, id='2bf4b1f5-5a51-44ba-ad66-f04527beb449'), AIMessage(content='You’re welcome! Is there anything else I can help you with today?', additional_kwargs={}, response_metadata={}, id='005d05c0-108a-45ed-8fb8-51a41b17e816'), HumanMessage(content='No, that’s all. Have a nice day!', additional_kwargs={}, response_metadata={}, id='766d17e9-2cb7-4980-9e57-5e566c6f52f8'), AIMessage(content='You too! 😊', additional_kwargs={}, response_metadata={}, id='ec71c590-24eb-4b04-9510-46060f7bab39'), AIMessage(content='Based on previous conversation:\\nHi, my order hasn’t arrived yet. Can you help?\\nOf course! Could you please provide your order number so I can check the status?\\nYes, it’s #ORD7821.\\nThanks! I’ve checked the system and your order is on the way. It should arrive tomorrow by 8 PM.\\nGreat, thanks for the update!\\nYou’re welcome! Is there anything else I can help you with today?\\nNo, that’s all. Have a nice day!\\nYou too! 😊\\nAnswer to: Hello, I forgot my password?', additional_kwargs={}, response_metadata={}, id='cfff6d7e-671a-4ada-8a8f-26b984307902')], 'latest_chat': 'Hello, I forgot my password?'}\n"
     ]
    }
   ],
   "source": [
    "from langgraph.graph import StateGraph, START, END\n",
    "from typing import TypedDict\n",
    "from pydantic import BaseModel, Field\n",
    "from langgraph.graph.message import add_messages\n",
    "\n",
    "# LangChain imports\n",
    "from langchain_openai import ChatOpenAI\n",
    "from langchain_core.messages import HumanMessage, AIMessage, BaseMessage\n",
    "\n",
    "# ----- STATE -----\n",
    "class ChatGraphState(TypedDict):\n",
    "    old_conversation: list[BaseMessage]\n",
    "    latest_chat: str\n",
    "\n",
    "# ----- TOOL SCHEMA -----\n",
    "class SearchDatabaseInput(BaseModel):\n",
    "    old_conversation: list[BaseMessage] = Field(..., description=\"The old conversation\")\n",
    "    latest_chat: str = Field(..., description=\"The latest user message\")\n",
    "\n",
    "def search_database(old_conversation: list[BaseMessage], latest_chat: str):\n",
    "    # Convert messages to text\n",
    "    conversation_text = \"\\n\".join([msg.content for msg in old_conversation])\n",
    "    return {\"results\": f\"Based on previous conversation:\\n{conversation_text}\\nAnswer to: {latest_chat}\"}\n",
    "\n",
    "# ----- SAMPLE CONVERSATION -----\n",
    "messages = [\n",
    "    {\"role\": \"user\", \"content\": \"Hi, my order hasn’t arrived yet. Can you help?\"},\n",
    "    {\"role\": \"agent\", \"content\": \"Of course! Could you please provide your order number so I can check the status?\"},\n",
    "    {\"role\": \"user\", \"content\": \"Yes, it’s #ORD7821.\"},\n",
    "    {\"role\": \"agent\", \"content\": \"Thanks! I’ve checked the system and your order is on the way. It should arrive tomorrow by 8 PM.\"},\n",
    "    {\"role\": \"user\", \"content\": \"Great, thanks for the update!\"},\n",
    "    {\"role\": \"agent\", \"content\": \"You’re welcome! Is there anything else I can help you with today?\"},\n",
    "    {\"role\": \"user\", \"content\": \"No, that’s all. Have a nice day!\"},\n",
    "    {\"role\": \"agent\", \"content\": \"You too! 😊\"}\n",
    "]\n",
    "\n",
    "# Convert dict messages to BaseMessage objects\n",
    "converted_messages = []\n",
    "for msg in messages:\n",
    "    if msg[\"role\"] == \"user\":\n",
    "        converted_messages.append(HumanMessage(content=msg[\"content\"]))\n",
    "    else:\n",
    "        converted_messages.append(AIMessage(content=msg[\"content\"]))\n",
    "\n",
    "# ----- NODE -----\n",
    "def gen_reply(state: ChatGraphState):\n",
    "    print(\"STATE:\", state)\n",
    "\n",
    "    llm = ChatOpenAI(model=\"gpt-4-1106-preview\", temperature=0)\n",
    "    llm_with_tools = llm.bind_tools([search_database], tool_choice=\"auto\")\n",
    "\n",
    "    # Invoke LLM\n",
    "    response = llm_with_tools.invoke([HumanMessage(content=state[\"latest_chat\"])])\n",
    "\n",
    "    # If tool was called\n",
    "    if hasattr(response, \"tool_calls\") and response.tool_calls:\n",
    "        for call in response.tool_calls:\n",
    "            if call[\"name\"] == \"search_database\":\n",
    "                tool_result = search_database(state[\"old_conversation\"], state[\"latest_chat\"])\n",
    "                response = AIMessage(content=tool_result[\"results\"])\n",
    "\n",
    "    # Add the LLM response to the conversation\n",
    "    return {\n",
    "        # \"old_conversation\": add_messages(state[\"old_conversation\"], [response]),\n",
    "        \"latest_chat\": state[\"latest_chat\"],\n",
    "    }\n",
    "\n",
    "# ----- GRAPH -----\n",
    "graph = StateGraph(ChatGraphState)\n",
    "graph.add_node(\"gen_reply\", gen_reply)\n",
    "graph.add_edge(START, \"gen_reply\")\n",
    "graph.add_edge(\"gen_reply\", END)\n",
    "\n",
    "chatbot = graph.compile()\n",
    "\n",
    "# ----- INITIAL STATE -----\n",
    "initial_state = {\n",
    "    \"old_conversation\": converted_messages,\n",
    "    \"latest_chat\": \"Hello, I forgot my password?\"\n",
    "}\n",
    "\n",
    "# Run chatbot\n",
    "result = chatbot.invoke(initial_state)\n",
    "print(\"FINAL RESULT:\", result)\n"
   ]
  },
  {
   "cell_type": "code",
   "execution_count": 21,
   "id": "167e4b7c",
   "metadata": {},
   "outputs": [
    {
     "name": "stdout",
     "output_type": "stream",
     "text": [
      "STATE: {'old_conversation': [HumanMessage(content='Hi, my order hasn’t arrived yet. Can you help?', additional_kwargs={}, response_metadata={}), AIMessage(content='Of course! Could you please provide your order number so I can check the status?', additional_kwargs={}, response_metadata={}), HumanMessage(content='Yes, it’s #ORD7821.', additional_kwargs={}, response_metadata={}), AIMessage(content='Thanks! I’ve checked the system and your order is on the way. It should arrive tomorrow by 8 PM.', additional_kwargs={}, response_metadata={}), HumanMessage(content='Great, thanks for the update!', additional_kwargs={}, response_metadata={}), AIMessage(content='You’re welcome! Is there anything else I can help you with today?', additional_kwargs={}, response_metadata={}), HumanMessage(content='No, that’s all. Have a nice day!', additional_kwargs={}, response_metadata={}), AIMessage(content='You too! 😊', additional_kwargs={}, response_metadata={})], 'latest_chat': 'Hello, I forgot my password?', 'tool_calls': []}\n",
      "FINAL RESULT: {'old_conversation': [HumanMessage(content='Hi, my order hasn’t arrived yet. Can you help?', additional_kwargs={}, response_metadata={}, id='979a2f5e-45d7-4da5-8419-247b7f88e717'), AIMessage(content='Of course! Could you please provide your order number so I can check the status?', additional_kwargs={}, response_metadata={}, id='88f91c60-3f04-4cd8-a48a-0cc917f95d61'), HumanMessage(content='Yes, it’s #ORD7821.', additional_kwargs={}, response_metadata={}, id='6922c103-e69f-4699-8d10-523d331c72c6'), AIMessage(content='Thanks! I’ve checked the system and your order is on the way. It should arrive tomorrow by 8 PM.', additional_kwargs={}, response_metadata={}, id='2dd6956f-668e-450d-af94-afc9377f68cf'), HumanMessage(content='Great, thanks for the update!', additional_kwargs={}, response_metadata={}, id='005a74b9-e280-45bd-bdd2-9c48c5214fbd'), AIMessage(content='You’re welcome! Is there anything else I can help you with today?', additional_kwargs={}, response_metadata={}, id='c0f2c647-c733-4cfe-8152-deab93df19c0'), HumanMessage(content='No, that’s all. Have a nice day!', additional_kwargs={}, response_metadata={}, id='52542685-31d9-4ad3-80ef-7aea36d1f5dc'), AIMessage(content='You too! 😊', additional_kwargs={}, response_metadata={}, id='d04438ec-991e-4b22-95d5-de45585be745'), AIMessage(content='Based on previous conversation:\\nHi, my order hasn’t arrived yet. Can you help?\\nOf course! Could you please provide your order number so I can check the status?\\nYes, it’s #ORD7821.\\nThanks! I’ve checked the system and your order is on the way. It should arrive tomorrow by 8 PM.\\nGreat, thanks for the update!\\nYou’re welcome! Is there anything else I can help you with today?\\nNo, that’s all. Have a nice day!\\nYou too! 😊\\nAnswer to: Hello, I forgot my password?', additional_kwargs={}, response_metadata={}, id='56f1706a-bb2e-41d8-9f9d-bf00cdaf890a')], 'latest_chat': 'Hello, I forgot my password?', 'tool_calls': [{'tool_name': 'search_database', 'args': {'old_conversation': [HumanMessage(content='Hi, my order hasn’t arrived yet. Can you help?', additional_kwargs={}, response_metadata={}, id='979a2f5e-45d7-4da5-8419-247b7f88e717'), AIMessage(content='Of course! Could you please provide your order number so I can check the status?', additional_kwargs={}, response_metadata={}, id='88f91c60-3f04-4cd8-a48a-0cc917f95d61'), HumanMessage(content='Yes, it’s #ORD7821.', additional_kwargs={}, response_metadata={}, id='6922c103-e69f-4699-8d10-523d331c72c6'), AIMessage(content='Thanks! I’ve checked the system and your order is on the way. It should arrive tomorrow by 8 PM.', additional_kwargs={}, response_metadata={}, id='2dd6956f-668e-450d-af94-afc9377f68cf'), HumanMessage(content='Great, thanks for the update!', additional_kwargs={}, response_metadata={}, id='005a74b9-e280-45bd-bdd2-9c48c5214fbd'), AIMessage(content='You’re welcome! Is there anything else I can help you with today?', additional_kwargs={}, response_metadata={}, id='c0f2c647-c733-4cfe-8152-deab93df19c0'), HumanMessage(content='No, that’s all. Have a nice day!', additional_kwargs={}, response_metadata={}, id='52542685-31d9-4ad3-80ef-7aea36d1f5dc'), AIMessage(content='You too! 😊', additional_kwargs={}, response_metadata={}, id='d04438ec-991e-4b22-95d5-de45585be745')], 'latest_chat': 'Hello, I forgot my password?'}, 'result': {'results': 'Based on previous conversation:\\nHi, my order hasn’t arrived yet. Can you help?\\nOf course! Could you please provide your order number so I can check the status?\\nYes, it’s #ORD7821.\\nThanks! I’ve checked the system and your order is on the way. It should arrive tomorrow by 8 PM.\\nGreat, thanks for the update!\\nYou’re welcome! Is there anything else I can help you with today?\\nNo, that’s all. Have a nice day!\\nYou too! 😊\\nAnswer to: Hello, I forgot my password?'}}]}\n"
     ]
    }
   ],
   "source": [
    "from langgraph.graph import StateGraph, START, END\n",
    "from typing import TypedDict\n",
    "from pydantic import BaseModel, Field\n",
    "from langgraph.graph.message import add_messages\n",
    "\n",
    "# LangChain imports\n",
    "from langchain_openai import ChatOpenAI\n",
    "from langchain_core.messages import HumanMessage, AIMessage, BaseMessage\n",
    "\n",
    "# ----- STATE -----\n",
    "class ChatGraphState(TypedDict):\n",
    "    old_conversation: list[BaseMessage]\n",
    "    latest_chat: str\n",
    "    tool_calls: list[dict]  # to store tool call details\n",
    "\n",
    "# ----- TOOL SCHEMA -----\n",
    "class SearchDatabaseInput(BaseModel):\n",
    "    old_conversation: list[BaseMessage] = Field(..., description=\"The old conversation\")\n",
    "    latest_chat: str = Field(..., description=\"The latest user message\")\n",
    "\n",
    "def search_database(old_conversation: list[BaseMessage], latest_chat: str):\n",
    "    # Convert messages to text\n",
    "    conversation_text = \"\\n\".join([msg.content for msg in old_conversation])\n",
    "    return {\"results\": f\"Based on previous conversation:\\n{conversation_text}\\nAnswer to: {latest_chat}\"}\n",
    "\n",
    "# ----- SAMPLE CONVERSATION -----\n",
    "messages = [\n",
    "    {\"role\": \"user\", \"content\": \"Hi, my order hasn’t arrived yet. Can you help?\"},\n",
    "    {\"role\": \"agent\", \"content\": \"Of course! Could you please provide your order number so I can check the status?\"},\n",
    "    {\"role\": \"user\", \"content\": \"Yes, it’s #ORD7821.\"},\n",
    "    {\"role\": \"agent\", \"content\": \"Thanks! I’ve checked the system and your order is on the way. It should arrive tomorrow by 8 PM.\"},\n",
    "    {\"role\": \"user\", \"content\": \"Great, thanks for the update!\"},\n",
    "    {\"role\": \"agent\", \"content\": \"You’re welcome! Is there anything else I can help you with today?\"},\n",
    "    {\"role\": \"user\", \"content\": \"No, that’s all. Have a nice day!\"},\n",
    "    {\"role\": \"agent\", \"content\": \"You too! 😊\"}\n",
    "]\n",
    "\n",
    "# Convert dict messages to BaseMessage objects\n",
    "converted_messages = []\n",
    "for msg in messages:\n",
    "    if msg[\"role\"] == \"user\":\n",
    "        converted_messages.append(HumanMessage(content=msg[\"content\"]))\n",
    "    else:\n",
    "        converted_messages.append(AIMessage(content=msg[\"content\"]))\n",
    "\n",
    "# ----- NODE -----\n",
    "def gen_reply(state: ChatGraphState):\n",
    "    print(\"STATE:\", state)\n",
    "\n",
    "    llm = ChatOpenAI(model=\"gpt-4-1106-preview\", temperature=0)\n",
    "    llm_with_tools = llm.bind_tools([search_database], tool_choice=\"auto\")\n",
    "\n",
    "    # Invoke LLM\n",
    "    response = llm_with_tools.invoke([HumanMessage(content=state[\"latest_chat\"])])\n",
    "\n",
    "    tool_call_details = []\n",
    "\n",
    "    # If tool was called\n",
    "    if hasattr(response, \"tool_calls\") and response.tool_calls:\n",
    "        for call in response.tool_calls:\n",
    "            if call[\"name\"] == \"search_database\":\n",
    "                args = {\"old_conversation\": state[\"old_conversation\"], \"latest_chat\": state[\"latest_chat\"]}\n",
    "                result = search_database(**args)\n",
    "                tool_call_details.append({\"tool_name\": call[\"name\"], \"args\": args, \"result\": result})\n",
    "\n",
    "                # Wrap tool result as AIMessage\n",
    "                response = AIMessage(content=result[\"results\"])\n",
    "\n",
    "    # Add the LLM response to the conversation\n",
    "    return {\n",
    "        \"old_conversation\": add_messages(state[\"old_conversation\"], [response]),\n",
    "        \"latest_chat\": state[\"latest_chat\"],\n",
    "        \"tool_calls\": tool_call_details\n",
    "    }\n",
    "\n",
    "# ----- GRAPH -----\n",
    "graph = StateGraph(ChatGraphState)\n",
    "graph.add_node(\"gen_reply\", gen_reply)\n",
    "graph.add_edge(START, \"gen_reply\")\n",
    "graph.add_edge(\"gen_reply\", END)\n",
    "\n",
    "chatbot = graph.compile()\n",
    "\n",
    "# ----- INITIAL STATE -----\n",
    "initial_state = {\n",
    "    \"old_conversation\": converted_messages,\n",
    "    \"latest_chat\": \"Hello, I forgot my password?\",\n",
    "    \"tool_calls\": []\n",
    "}\n",
    "\n",
    "# Run chatbot\n",
    "result = chatbot.invoke(initial_state)\n",
    "print(\"FINAL RESULT:\", result)\n"
   ]
  },
  {
   "cell_type": "code",
   "execution_count": 23,
   "id": "73601a31",
   "metadata": {},
   "outputs": [
    {
     "name": "stdout",
     "output_type": "stream",
     "text": [
      "FINAL RESULT: [{'tool_name': 'search_database', 'args': {'old_conversation': [HumanMessage(content='Hi, my order hasn’t arrived yet. Can you help?', additional_kwargs={}, response_metadata={}, id='979a2f5e-45d7-4da5-8419-247b7f88e717'), AIMessage(content='Of course! Could you please provide your order number so I can check the status?', additional_kwargs={}, response_metadata={}, id='88f91c60-3f04-4cd8-a48a-0cc917f95d61'), HumanMessage(content='Yes, it’s #ORD7821.', additional_kwargs={}, response_metadata={}, id='6922c103-e69f-4699-8d10-523d331c72c6'), AIMessage(content='Thanks! I’ve checked the system and your order is on the way. It should arrive tomorrow by 8 PM.', additional_kwargs={}, response_metadata={}, id='2dd6956f-668e-450d-af94-afc9377f68cf'), HumanMessage(content='Great, thanks for the update!', additional_kwargs={}, response_metadata={}, id='005a74b9-e280-45bd-bdd2-9c48c5214fbd'), AIMessage(content='You’re welcome! Is there anything else I can help you with today?', additional_kwargs={}, response_metadata={}, id='c0f2c647-c733-4cfe-8152-deab93df19c0'), HumanMessage(content='No, that’s all. Have a nice day!', additional_kwargs={}, response_metadata={}, id='52542685-31d9-4ad3-80ef-7aea36d1f5dc'), AIMessage(content='You too! 😊', additional_kwargs={}, response_metadata={}, id='d04438ec-991e-4b22-95d5-de45585be745')], 'latest_chat': 'Hello, I forgot my password?'}, 'result': {'results': 'Based on previous conversation:\\nHi, my order hasn’t arrived yet. Can you help?\\nOf course! Could you please provide your order number so I can check the status?\\nYes, it’s #ORD7821.\\nThanks! I’ve checked the system and your order is on the way. It should arrive tomorrow by 8 PM.\\nGreat, thanks for the update!\\nYou’re welcome! Is there anything else I can help you with today?\\nNo, that’s all. Have a nice day!\\nYou too! 😊\\nAnswer to: Hello, I forgot my password?'}}]\n"
     ]
    }
   ],
   "source": [
    "print(\"FINAL RESULT:\", result[\"tool_calls\"])\n"
   ]
  },
  {
   "cell_type": "code",
   "execution_count": null,
   "id": "aaf19c2e",
   "metadata": {},
   "outputs": [],
   "source": []
  }
 ],
 "metadata": {
  "kernelspec": {
   "display_name": "lang-graph-learn",
   "language": "python",
   "name": "python3"
  },
  "language_info": {
   "codemirror_mode": {
    "name": "ipython",
    "version": 3
   },
   "file_extension": ".py",
   "mimetype": "text/x-python",
   "name": "python",
   "nbconvert_exporter": "python",
   "pygments_lexer": "ipython3",
   "version": "3.11.13"
  }
 },
 "nbformat": 4,
 "nbformat_minor": 5
}
